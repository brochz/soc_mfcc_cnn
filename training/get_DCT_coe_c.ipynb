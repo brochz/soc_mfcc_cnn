{
 "cells": [
  {
   "cell_type": "code",
   "execution_count": 1,
   "metadata": {},
   "outputs": [],
   "source": [
    "import numpy as np"
   ]
  },
  {
   "cell_type": "code",
   "execution_count": 2,
   "metadata": {},
   "outputs": [],
   "source": [
    "def np_2_c_array(nparray, aname=\"array\", stype=\"const float\"):\n",
    "    s = np.array2string(nparray, separator=', ')\n",
    "    size = \"\"\n",
    "    for i in nparray.shape:\n",
    "        size = size + f\"[{i}]\"\n",
    "    s = s.replace(\"[\", \"{\")\n",
    "    s = s.replace(\"]\", \"}\")\n",
    "    s = f\"{stype} {aname} {size} = \\n{s}\"\n",
    "    return s"
   ]
  },
  {
   "cell_type": "code",
   "execution_count": 3,
   "metadata": {},
   "outputs": [],
   "source": [
    "import mfcc"
   ]
  },
  {
   "cell_type": "code",
   "execution_count": 4,
   "metadata": {},
   "outputs": [],
   "source": [
    "test_array = np.random.rand(1,26)"
   ]
  },
  {
   "cell_type": "code",
   "execution_count": 5,
   "metadata": {},
   "outputs": [
    {
     "data": {
      "text/plain": [
       "array([[0.85909963, 0.07140579, 0.56413263, 0.63846767, 0.99423214,\n",
       "        0.72806486, 0.04940623, 0.62282155, 0.86373619, 0.94955413,\n",
       "        0.55238884, 0.13138376, 0.05886947, 0.63259764, 0.87418909,\n",
       "        0.41021838, 0.26162293, 0.32545019, 0.32683582, 0.19346238,\n",
       "        0.68841916, 0.32097317, 0.55517792, 0.85703109, 0.53827306,\n",
       "        0.8717372 ]])"
      ]
     },
     "execution_count": 5,
     "metadata": {},
     "output_type": "execute_result"
    }
   ],
   "source": [
    "test_array\n",
    "\n"
   ]
  },
  {
   "cell_type": "code",
   "execution_count": 7,
   "metadata": {},
   "outputs": [],
   "source": [
    "W = mfcc.get_dct_coe(26, 13)"
   ]
  },
  {
   "cell_type": "code",
   "execution_count": 8,
   "metadata": {},
   "outputs": [],
   "source": [
    "re1 = test_array @ W"
   ]
  },
  {
   "cell_type": "code",
   "execution_count": 9,
   "metadata": {},
   "outputs": [],
   "source": [
    "re2 = mfcc.my_dct(test_array, 13)"
   ]
  },
  {
   "cell_type": "code",
   "execution_count": 11,
   "metadata": {},
   "outputs": [],
   "source": [
    "import matplotlib.pyplot as plt"
   ]
  },
  {
   "cell_type": "code",
   "execution_count": 13,
   "metadata": {},
   "outputs": [
    {
     "data": {
      "text/plain": [
       "[<matplotlib.lines.Line2D at 0x13f298133a0>]"
      ]
     },
     "execution_count": 13,
     "metadata": {},
     "output_type": "execute_result"
    },
    {
     "data": {
      "image/png": "[encoded data removed]",
      "text/plain": [
       "<Figure size 432x288 with 1 Axes>"
      ]
     },
     "metadata": {
      "needs_background": "light"
     },
     "output_type": "display_data"
    }
   ],
   "source": [
    "plt.plot(re1[0])"
   ]
  },
  {
   "cell_type": "code",
   "execution_count": 16,
   "metadata": {},
   "outputs": [
    {
     "data": {
      "text/plain": [
       "[<matplotlib.lines.Line2D at 0x13f29866100>]"
      ]
     },
     "execution_count": 16,
     "metadata": {},
     "output_type": "execute_result"
    },
    {
     "data": {
      "image/png": "[encoded data removed]",
      "text/plain": [
       "<Figure size 432x288 with 1 Axes>"
      ]
     },
     "metadata": {
      "needs_background": "light"
     },
     "output_type": "display_data"
    }
   ],
   "source": [
    "plt.plot(re2[0])"
   ]
  },
  {
   "cell_type": "code",
   "execution_count": 19,
   "metadata": {},
   "outputs": [
    {
     "name": "stdout",
     "output_type": "stream",
     "text": [
      "const float dct_coe [13][26] = \n",
      "{{ 2.0000000e+00,  2.0000000e+00,  2.0000000e+00,  2.0000000e+00,\n",
      "   2.0000000e+00,  2.0000000e+00,  2.0000000e+00,  2.0000000e+00,\n",
      "   2.0000000e+00,  2.0000000e+00,  2.0000000e+00,  2.0000000e+00,\n",
      "   2.0000000e+00,  2.0000000e+00,  2.0000000e+00,  2.0000000e+00,\n",
      "   2.0000000e+00,  2.0000000e+00,  2.0000000e+00,  2.0000000e+00,\n",
      "   2.0000000e+00,  2.0000000e+00,  2.0000000e+00,  2.0000000e+00,\n",
      "   2.0000000e+00,  2.0000000e+00},\n",
      " { 1.9963511e+00,  1.9672399e+00,  1.9094417e+00,  1.8237997e+00,\n",
      "   1.7115625e+00,  1.5743669e+00,  1.4142135e+00,  1.2334378e+00,\n",
      "   1.0346756e+00,  8.2082564e-01,  5.9500611e-01,  3.6051008e-01,\n",
      "   1.2075699e-01, -1.2075699e-01, -3.6051008e-01, -5.9500611e-01,\n",
      "  -8.2082564e-01, -1.0346756e+00, -1.2334378e+00, -1.4142135e+00,\n",
      "  -1.5743669e+00, -1.7115625e+00, -1.8237997e+00, -1.9094417e+00,\n",
      "  -1.9672399e+00, -1.9963511e+00},\n",
      " { 1.9854177e+00,  1.8700324e+00,  1.6459677e+00,  1.3262453e+00,\n",
      "   9.2944634e-01,  4.7863132e-01, -3.2162452e-16, -4.7863132e-01,\n",
      "  -9.2944634e-01, -1.3262453e+00, -1.6459677e+00, -1.8700324e+00,\n",
      "  -1.9854177e+00, -1.9854177e+00, -1.8700324e+00, -1.6459677e+00,\n",
      "  -1.3262453e+00, -9.2944634e-01, -4.7863132e-01, -3.6739403e-16,\n",
      "   4.7863132e-01,  9.2944634e-01,  1.3262453e+00,  1.6459677e+00,\n",
      "   1.8700324e+00,  1.9854177e+00},\n",
      " { 1.9672399e+00,  1.7115625e+00,  1.2334378e+00,  5.9500611e-01,\n",
      "  -1.2075699e-01, -8.2082564e-01, -1.4142135e+00, -1.8237997e+00,\n",
      "  -1.9963511e+00, -1.9094417e+00, -1.5743669e+00, -1.0346756e+00,\n",
      "  -3.6051008e-01,  3.6051008e-01,  1.0346756e+00,  1.5743669e+00,\n",
      "   1.9094417e+00,  1.9963511e+00,  1.8237997e+00,  1.4142135e+00,\n",
      "   8.2082564e-01,  1.2075699e-01, -5.9500611e-01, -1.2334378e+00,\n",
      "  -1.7115625e+00, -1.9672399e+00},\n",
      " { 1.9418837e+00,  1.4970216e+00,  7.0920980e-01, -2.4107336e-01,\n",
      "  -1.1361295e+00, -1.7709121e+00, -2.0000000e+00, -1.7709121e+00,\n",
      "  -1.1361295e+00, -2.4107336e-01,  7.0920980e-01,  1.4970216e+00,\n",
      "   1.9418837e+00,  1.9418837e+00,  1.4970216e+00,  7.0920980e-01,\n",
      "  -2.4107336e-01, -1.1361295e+00, -1.7709121e+00, -2.0000000e+00,\n",
      "  -1.7709121e+00, -1.1361295e+00, -2.4107336e-01,  7.0920980e-01,\n",
      "   1.4970216e+00,  1.9418837e+00},\n",
      " { 1.9094417e+00,  1.2334378e+00,  1.2075699e-01, -1.0346756e+00,\n",
      "  -1.8237997e+00, -1.9672399e+00, -1.4142135e+00, -3.6051008e-01,\n",
      "   8.2082564e-01,  1.7115625e+00,  1.9963511e+00,  1.5743669e+00,\n",
      "   5.9500611e-01, -5.9500611e-01, -1.5743669e+00, -1.9963511e+00,\n",
      "  -1.7115625e+00, -8.2082564e-01,  3.6051008e-01,  1.4142135e+00,\n",
      "   1.9672399e+00,  1.8237997e+00,  1.0346756e+00, -1.2075699e-01,\n",
      "  -1.2334378e+00, -1.9094417e+00},\n",
      " { 1.8700324e+00,  9.2944634e-01, -4.7863132e-01, -1.6459677e+00,\n",
      "  -1.9854177e+00, -1.3262453e+00, -3.6739403e-16,  1.3262453e+00,\n",
      "   1.9854177e+00,  1.6459677e+00,  4.7863132e-01, -9.2944634e-01,\n",
      "  -1.8700324e+00, -1.8700324e+00, -9.2944634e-01,  4.7863132e-01,\n",
      "   1.6459677e+00,  1.9854177e+00,  1.3262453e+00,  1.1021821e-15,\n",
      "  -1.3262453e+00, -1.9854177e+00, -1.6459677e+00, -4.7863132e-01,\n",
      "   9.2944634e-01,  1.8700324e+00},\n",
      " { 1.8237997e+00,  5.9500611e-01, -1.0346756e+00, -1.9672399e+00,\n",
      "  -1.5743669e+00, -1.2075699e-01,  1.4142135e+00,  1.9963511e+00,\n",
      "   1.2334378e+00, -3.6051008e-01, -1.7115625e+00, -1.9094417e+00,\n",
      "  -8.2082564e-01,  8.2082564e-01,  1.9094417e+00,  1.7115625e+00,\n",
      "   3.6051008e-01, -1.2334378e+00, -1.9963511e+00, -1.4142135e+00,\n",
      "   1.2075699e-01,  1.5743669e+00,  1.9672399e+00,  1.0346756e+00,\n",
      "  -5.9500611e-01, -1.8237997e+00},\n",
      " { 1.7709121e+00,  2.4107336e-01, -1.4970216e+00, -1.9418837e+00,\n",
      "  -7.0920980e-01,  1.1361295e+00,  2.0000000e+00,  1.1361295e+00,\n",
      "  -7.0920980e-01, -1.9418837e+00, -1.4970216e+00,  2.4107336e-01,\n",
      "   1.7709121e+00,  1.7709121e+00,  2.4107336e-01, -1.4970216e+00,\n",
      "  -1.9418837e+00, -7.0920980e-01,  1.1361295e+00,  2.0000000e+00,\n",
      "   1.1361295e+00, -7.0920980e-01, -1.9418837e+00, -1.4970216e+00,\n",
      "   2.4107336e-01,  1.7709121e+00},\n",
      " { 1.7115625e+00, -1.2075699e-01, -1.8237997e+00, -1.5743669e+00,\n",
      "   3.6051008e-01,  1.9094417e+00,  1.4142135e+00, -5.9500611e-01,\n",
      "  -1.9672399e+00, -1.2334378e+00,  8.2082564e-01,  1.9963511e+00,\n",
      "   1.0346756e+00, -1.0346756e+00, -1.9963511e+00, -8.2082564e-01,\n",
      "   1.2334378e+00,  1.9672399e+00,  5.9500611e-01, -1.4142135e+00,\n",
      "  -1.9094417e+00, -3.6051008e-01,  1.5743669e+00,  1.8237997e+00,\n",
      "   1.2075699e-01, -1.7115625e+00},\n",
      " { 1.6459677e+00, -4.7863132e-01, -1.9854177e+00, -9.2944634e-01,\n",
      "   1.3262453e+00,  1.8700324e+00,  6.1232340e-16, -1.8700324e+00,\n",
      "  -1.3262453e+00,  9.2944634e-01,  1.9854177e+00,  4.7863132e-01,\n",
      "  -1.6459677e+00, -1.6459677e+00,  4.7863132e-01,  1.9854177e+00,\n",
      "   9.2944634e-01, -1.3262453e+00, -1.8700324e+00, -5.3896838e-15,\n",
      "   1.8700324e+00,  1.3262453e+00, -9.2944634e-01, -1.9854177e+00,\n",
      "  -4.7863132e-01,  1.6459677e+00},\n",
      " { 1.5743669e+00, -8.2082564e-01, -1.9672399e+00, -1.2075699e-01,\n",
      "   1.9094417e+00,  1.0346756e+00, -1.4142135e+00, -1.7115625e+00,\n",
      "   5.9500611e-01,  1.9963511e+00,  3.6051008e-01, -1.8237997e+00,\n",
      "  -1.2334378e+00,  1.2334378e+00,  1.8237997e+00, -3.6051008e-01,\n",
      "  -1.9963511e+00, -5.9500611e-01,  1.7115625e+00,  1.4142135e+00,\n",
      "  -1.0346756e+00, -1.9094417e+00,  1.2075699e-01,  1.9672399e+00,\n",
      "   8.2082564e-01, -1.5743669e+00},\n",
      " { 1.4970216e+00, -1.1361295e+00, -1.7709121e+00,  7.0920980e-01,\n",
      "   1.9418837e+00, -2.4107336e-01, -2.0000000e+00, -2.4107336e-01,\n",
      "   1.9418837e+00,  7.0920980e-01, -1.7709121e+00, -1.1361295e+00,\n",
      "   1.4970216e+00,  1.4970216e+00, -1.1361295e+00, -1.7709121e+00,\n",
      "   7.0920980e-01,  1.9418837e+00, -2.4107336e-01, -2.0000000e+00,\n",
      "  -2.4107336e-01,  1.9418837e+00,  7.0920980e-01, -1.7709121e+00,\n",
      "  -1.1361295e+00,  1.4970216e+00}}\n"
     ]
    }
   ],
   "source": [
    "print(np_2_c_array(W.T, \"dct_coe\",))"
   ]
  },
  {
   "cell_type": "code",
   "execution_count": null,
   "metadata": {},
   "outputs": [],
   "source": []
  }
 ],
 "metadata": {
  "kernelspec": {
   "display_name": "Python 3",
   "language": "python",
   "name": "python3"
  },
  "language_info": {
   "codemirror_mode": {
    "name": "ipython",
    "version": 3
   },
   "file_extension": ".py",
   "mimetype": "text/x-python",
   "name": "python",
   "nbconvert_exporter": "python",
   "pygments_lexer": "ipython3",
   "version": "3.8.6"
  }
 },
 "nbformat": 4,
 "nbformat_minor": 4
}
