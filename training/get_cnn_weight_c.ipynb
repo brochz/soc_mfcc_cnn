{
 "cells": [
  {
   "cell_type": "code",
   "execution_count": 1,
   "metadata": {},
   "outputs": [],
   "source": [
    "import numpy as np\n",
    "import tensorflow as tf\n",
    "import get_model\n",
    "import mfcc\n",
    "import matplotlib.pyplot as plt\n",
    "import librosa.display\n",
    "import librosa\n",
    "import IPython.display"
   ]
  },
  {
   "cell_type": "code",
   "execution_count": 2,
   "metadata": {},
   "outputs": [],
   "source": [
    "sr = 8000\n",
    "train_nums = 28000\n",
    "hop_length = 128"
   ]
  },
  {
   "cell_type": "code",
   "execution_count": 3,
   "metadata": {},
   "outputs": [],
   "source": [
    "data = np.load(f\"data_set_mfcc_sr_{sr//1000}k_librosa_7808p.npz\")\n",
    "X = data[\"X\"]\n",
    "y = data[\"y\"]\n",
    "labels = data[\"labels\"]"
   ]
  },
  {
   "cell_type": "code",
   "execution_count": 4,
   "metadata": {},
   "outputs": [],
   "source": [
    "#change index to one hot code\n",
    "y = tf.one_hot(y, np.max(y)+1)\n",
    "#extend X to 4 d\n",
    "X = X[:,:,:, np.newaxis]"
   ]
  },
  {
   "cell_type": "code",
   "execution_count": 5,
   "metadata": {},
   "outputs": [
    {
     "name": "stdout",
     "output_type": "stream",
     "text": [
      "Model: \"sequential\"\n",
      "_________________________________________________________________\n",
      "Layer (type)                 Output Shape              Param #   \n",
      "=================================================================\n",
      "conv2d (Conv2D)              (None, 58, 11, 4)         40        \n",
      "_________________________________________________________________\n",
      "max_pooling2d (MaxPooling2D) (None, 29, 5, 4)          0         \n",
      "_________________________________________________________________\n",
      "conv2d_1 (Conv2D)            (None, 27, 3, 8)          296       \n",
      "_________________________________________________________________\n",
      "max_pooling2d_1 (MaxPooling2 (None, 13, 1, 8)          0         \n",
      "_________________________________________________________________\n",
      "flatten (Flatten)            (None, 104)               0         \n",
      "_________________________________________________________________\n",
      "dense (Dense)                (None, 64)                6720      \n",
      "_________________________________________________________________\n",
      "dense_1 (Dense)              (None, 10)                650       \n",
      "=================================================================\n",
      "Total params: 7,706\n",
      "Trainable params: 7,706\n",
      "Non-trainable params: 0\n",
      "_________________________________________________________________\n"
     ]
    }
   ],
   "source": [
    "model = get_model.get_cnn_model(X[0].shape)\n",
    "model.summary()"
   ]
  },
  {
   "cell_type": "code",
   "execution_count": 6,
   "metadata": {},
   "outputs": [
    {
     "data": {
      "text/plain": [
       "<tensorflow.python.training.tracking.util.CheckpointLoadStatus at 0x1febb580bb0>"
      ]
     },
     "execution_count": 6,
     "metadata": {},
     "output_type": "execute_result"
    }
   ],
   "source": [
    "model.load_weights(\"cnn_model_checkpoints/checkpoint_8k_7808p_ln\")"
   ]
  },
  {
   "cell_type": "code",
   "execution_count": 7,
   "metadata": {},
   "outputs": [],
   "source": [
    "W = {}"
   ]
  },
  {
   "cell_type": "code",
   "execution_count": 8,
   "metadata": {},
   "outputs": [],
   "source": [
    "for layer in model.layers:\n",
    "    W[layer.name] = layer.get_weights()"
   ]
  },
  {
   "cell_type": "code",
   "execution_count": 9,
   "metadata": {},
   "outputs": [
    {
     "data": {
      "text/plain": [
       "dict_keys(['conv2d', 'max_pooling2d', 'conv2d_1', 'max_pooling2d_1', 'flatten', 'dense', 'dense_1'])"
      ]
     },
     "execution_count": 9,
     "metadata": {},
     "output_type": "execute_result"
    }
   ],
   "source": [
    "W.keys()"
   ]
  },
  {
   "cell_type": "code",
   "execution_count": 10,
   "metadata": {},
   "outputs": [
    {
     "data": {
      "text/plain": [
       "[]"
      ]
     },
     "execution_count": 10,
     "metadata": {},
     "output_type": "execute_result"
    }
   ],
   "source": [
    "W[\"max_pooling2d\"]"
   ]
  },
  {
   "cell_type": "code",
   "execution_count": 11,
   "metadata": {},
   "outputs": [],
   "source": [
    "W['conv2d'][0] = np.moveaxis(W['conv2d'][0], -1, 0)\n",
    "W['conv2d_1'][0] = np.moveaxis(W['conv2d_1'][0], -1, 0)"
   ]
  },
  {
   "cell_type": "code",
   "execution_count": 12,
   "metadata": {},
   "outputs": [
    {
     "data": {
      "text/plain": [
       "(104, 64)"
      ]
     },
     "execution_count": 12,
     "metadata": {},
     "output_type": "execute_result"
    }
   ],
   "source": [
    "W['dense'][0].shape"
   ]
  },
  {
   "cell_type": "code",
   "execution_count": 13,
   "metadata": {},
   "outputs": [
    {
     "data": {
      "text/plain": [
       "'[[ 0.12202047,  0.00569294, -0.1200335 , ..., -0.05844411, -0.12668878,\\n   0.10096881],\\n [ 0.11696862, -0.1271833 ,  0.02189862, ..., -0.07640142, -0.18854429,\\n  -0.05161735],\\n [ 0.00835338,  0.03057227,  0.12738936, ..., -0.08911207, -0.1055474 ,\\n  -0.03061129],\\n ...,\\n [ 0.09829281,  0.18998796,  0.07651299, ...,  0.05620835, -0.13902844,\\n  -0.16120721],\\n [-0.04017746, -0.02623458, -0.04337025, ...,  0.01623487, -0.23100679,\\n   0.01889078],\\n [ 0.04214349, -0.05929037,  0.11170781, ..., -0.189921  ,  0.11414908,\\n   0.01334545]]'"
      ]
     },
     "execution_count": 13,
     "metadata": {},
     "output_type": "execute_result"
    }
   ],
   "source": [
    "np.array2string(W['dense'][0], separator=', ',)"
   ]
  },
  {
   "cell_type": "code",
   "execution_count": 14,
   "metadata": {},
   "outputs": [],
   "source": [
    "import sys\n",
    "np.set_printoptions(threshold=sys.maxsize)\n",
    "\n",
    "with open(\"weight.txt\", \"w\") as f:\n",
    "    for key, value in W.items():\n",
    "        if value:\n",
    "            s1 = np.array2string(value[0], separator=', ')\n",
    "            sp1 = \"\"\n",
    "            for i in value[0].shape:\n",
    "                sp1 = sp1+f\"[{i}]\"\n",
    "            s2 = np.array2string(value[1], separator=', ')\n",
    "            sp2 = \"\"\n",
    "            for i in value[1].shape:\n",
    "                sp2 = sp2+f\"[{i}]\"\n",
    "                \n",
    "            s1 = s1.replace(\"[\", \"{\")\n",
    "            s1 = s1.replace(\"]\", \"}\")\n",
    "            s2 = s2.replace(\"]\", \"}\")\n",
    "            s2 = s2.replace(\"[\", \"{\")\n",
    "            s = \"const float \" + key+f\"_W {sp1} = \\n\"+s1 +\";\\n\\n\\n\" + \"const float \"+ key+f\"_b {sp2} = \\n\" +s2+\";\\n\\n\\n\"\n",
    "       \n",
    "            f.write(s)"
   ]
  },
  {
   "cell_type": "code",
   "execution_count": 19,
   "metadata": {},
   "outputs": [],
   "source": [
    "#test\n",
    "test_input = np.random.randn(60, 13)"
   ]
  },
  {
   "cell_type": "code",
   "execution_count": 20,
   "metadata": {},
   "outputs": [],
   "source": [
    "def np_2_c_array(nparray, aname=\"array\", stype=\"const float\"):\n",
    "    s = np.array2string(nparray, separator=', ')\n",
    "    size = \"\"\n",
    "    for i in nparray.shape:\n",
    "        size = size + f\"[{i}]\"\n",
    "    s = s.replace(\"[\", \"{\")\n",
    "    s = s.replace(\"]\", \"}\")\n",
    "    s = f\"{stype} {aname} {size} = \\n{s};\"\n",
    "    return s"
   ]
  },
  {
   "cell_type": "code",
   "execution_count": 21,
   "metadata": {},
   "outputs": [
    {
     "name": "stdout",
     "output_type": "stream",
     "text": [
      "const float test_array [60][13] = \n",
      "{{ 4.84060234e-01,  8.29414830e-01,  2.93696509e-01,  7.44291118e-02,\n",
      "  -4.23265371e-01,  7.21967712e-02,  4.32951321e-01, -4.36880432e-01,\n",
      "   8.82623224e-01, -1.57550978e-01, -1.14043674e+00,  3.98080974e-01,\n",
      "   8.92492621e-01},\n",
      " {-9.27689023e-01, -2.53083342e-02, -9.78674751e-01, -1.15983493e-02,\n",
      "  -3.45827136e-01, -6.73609499e-01,  4.37458456e-01,  3.47677726e-01,\n",
      "  -1.62774473e+00, -1.35042053e+00,  6.04827247e-01, -3.05262902e-01,\n",
      "   8.77276563e-01},\n",
      " {-5.63232350e-01,  1.71837149e+00, -1.82488187e-01,  1.77791215e+00,\n",
      "   9.76169245e-01, -1.03458988e+00,  2.52691269e-01, -3.50104775e-01,\n",
      "  -1.69351867e+00,  8.71267908e-01,  6.07028457e-01, -1.00657845e+00,\n",
      "  -1.58993520e+00},\n",
      " {-8.88187613e-01,  6.42027271e-01,  6.97823003e-01,  1.02633071e+00,\n",
      "   6.82288228e-01,  5.22053953e-01,  8.07590982e-01,  4.87282077e-01,\n",
      "   1.22575020e+00,  3.19178998e-01,  2.74434040e-01, -8.94109423e-01,\n",
      "   4.59261767e-01},\n",
      " { 1.11629693e+00, -2.07866720e+00, -5.49880378e-01, -1.69935138e+00,\n",
      "  -4.11153320e-01, -1.89628458e+00,  1.32071790e+00,  1.19131577e+00,\n",
      "  -8.85667310e-01, -1.33698933e+00,  5.67907710e-01,  6.65149525e-01,\n",
      "   1.08733821e-01},\n",
      " { 7.24523887e-01, -2.86089529e-01, -1.05102149e+00,  1.54827558e+00,\n",
      "  -6.92119260e-01, -5.44664757e-01, -1.31581535e+00, -1.04987608e+00,\n",
      "   4.55516954e-01, -1.88648292e+00, -2.79768581e-01,  5.23775962e-01,\n",
      "   1.76734910e-01},\n",
      " {-9.70615389e-01,  3.21466630e-01, -8.01812747e-01, -2.61184809e-01,\n",
      "  -2.15422607e-01,  1.87937387e-01, -5.45460447e-01,  1.75960777e+00,\n",
      "  -4.49999868e-01, -1.49162243e+00, -3.56302246e-01, -2.80350682e-01,\n",
      "   1.47331684e+00},\n",
      " { 2.25050195e+00, -1.67435598e-01, -1.87736325e-01, -6.46410928e-01,\n",
      "   1.28072962e+00,  1.01242777e+00, -2.05428576e+00,  4.85044145e-01,\n",
      "  -2.23919373e-01,  4.64902079e-01, -6.09536759e-01,  2.97557035e-02,\n",
      "  -1.39817692e+00},\n",
      " {-2.17833308e-01,  7.47779184e-01,  1.80147262e+00,  1.25070721e+00,\n",
      "  -2.48305833e-01,  8.69217982e-01, -2.64411715e-01,  4.68394681e-02,\n",
      "   1.48156707e-01, -5.95893220e-01,  9.15635197e-01, -3.55568065e-01,\n",
      "   1.42006852e+00},\n",
      " {-1.69421020e+00, -3.88809097e-01,  1.28965055e+00,  6.05962149e-01,\n",
      "   1.45168618e+00,  6.88362334e-01, -1.88152174e+00,  1.30632437e+00,\n",
      "  -9.80726196e-01, -4.48068380e-01, -5.87482207e-01, -5.17113552e-02,\n",
      "   4.80499901e-01},\n",
      " {-2.20309280e-01,  2.88088906e-01, -3.52819277e-01, -1.16604365e+00,\n",
      "   1.40786816e+00, -1.07802726e-01,  1.73236540e-01, -8.43119300e-01,\n",
      "  -1.42817200e+00, -8.38591580e-01,  2.56109450e-01, -4.56737229e-01,\n",
      "   7.61273559e-02},\n",
      " { 1.61708080e-01,  1.00378372e-02,  1.51392011e+00, -1.76227287e+00,\n",
      "  -2.57676444e-01,  6.92481869e-01, -1.83556031e-01,  1.17672557e+00,\n",
      "   1.84795627e-01,  2.14696069e+00, -1.07013992e+00, -1.01426502e+00,\n",
      "   1.58689301e+00},\n",
      " {-9.40050468e-01,  8.75420742e-01,  1.14930009e+00, -8.06766743e-02,\n",
      "  -6.22821276e-02, -1.67386715e+00,  7.52264537e-01, -4.64623262e-01,\n",
      "   1.00358943e+00, -1.26384002e+00,  1.75184664e-01, -1.99169859e+00,\n",
      "  -3.65752832e-01},\n",
      " {-7.35968376e-02,  9.52284112e-01,  5.01601548e-01, -2.92103014e-01,\n",
      "   9.76290089e-02, -9.68488990e-01,  1.54211706e-01, -6.47805260e-01,\n",
      "  -1.89477536e-01, -1.35955006e+00,  1.39635069e+00,  4.46804720e-01,\n",
      "  -4.38612251e-01},\n",
      " {-6.08209103e-01,  7.92529466e-01, -4.91666197e-01,  1.73960254e-02,\n",
      "   1.09428560e+00, -2.71723123e-01,  3.60727282e-01,  3.67793935e-01,\n",
      "   5.43688381e-01, -1.26066136e-01, -1.73469350e+00, -1.89993324e+00,\n",
      "   1.32069453e+00},\n",
      " { 1.08154948e+00, -3.69615483e-01, -3.56328316e-01,  1.01709184e+00,\n",
      "  -1.23578864e+00,  1.42562510e-01,  3.48078957e-02,  1.35102626e+00,\n",
      "  -6.74838200e-01,  8.90716168e-01,  9.66828514e-01, -4.62428352e-01,\n",
      "  -1.36702540e+00},\n",
      " {-1.85094106e+00, -2.07978810e+00, -4.48665303e-01,  9.75418899e-01,\n",
      "   1.26020508e+00,  3.15403741e-01,  7.91626966e-03,  8.08347304e-02,\n",
      "  -1.22747054e+00, -1.14130625e+00, -4.47575777e-01,  1.11843248e+00,\n",
      "  -1.76039931e+00},\n",
      " {-7.79838397e-01,  8.57806785e-01, -1.01682688e+00,  2.61822564e-02,\n",
      "  -7.67467112e-02, -2.81371132e-01, -5.61687270e-01, -2.83635263e-01,\n",
      "  -2.80338988e+00,  2.06659370e+00,  1.29209213e+00,  6.33990042e-01,\n",
      "   1.41374758e+00},\n",
      " {-1.17057209e+00, -4.33319209e-01, -5.99865672e-01, -9.15330295e-02,\n",
      "  -5.03135552e-01, -1.75864926e+00,  1.60798970e+00, -1.12973638e-01,\n",
      "   4.57545962e-01, -2.04302396e-01,  1.80214670e+00, -7.36000876e-01,\n",
      "  -1.08873540e-01},\n",
      " { 1.50136331e+00, -3.14855288e-01, -3.40870026e-01,  4.27498652e-01,\n",
      "   8.61415320e-01,  1.27385418e+00,  1.58221785e-01,  2.20847568e-01,\n",
      "   1.03049482e+00,  2.24309138e+00,  7.34440891e-01,  8.79938544e-01,\n",
      "   5.84085684e-01},\n",
      " {-9.63951329e-02,  4.04171321e-01, -7.70657458e-01,  4.71621722e-01,\n",
      "   2.23475644e+00,  2.41169717e-01,  4.92183435e-02, -1.66845680e+00,\n",
      "   1.19816369e+00, -1.06487663e+00, -7.03117439e-01, -1.56155103e+00,\n",
      "   1.77063584e-01},\n",
      " {-1.28520046e+00,  9.86777733e-01, -7.57703162e-01,  3.94891699e-01,\n",
      "  -1.16601424e+00,  3.69928183e-01, -8.44984889e-02, -9.42304391e-01,\n",
      "  -1.79115072e+00,  1.62661273e+00,  1.26712372e+00,  1.66986729e+00,\n",
      "   1.00695392e+00},\n",
      " {-9.26826004e-01, -1.70913410e-01, -1.56919735e+00, -5.86956483e-01,\n",
      "  -6.78009480e-01,  3.55711727e-01, -1.26635198e+00, -8.13042853e-01,\n",
      "  -1.53136344e+00, -6.74609133e-01, -1.82370243e-01,  1.59003433e+00,\n",
      "   5.71055945e-01},\n",
      " { 1.03764657e+00,  1.56511003e+00, -5.79400177e-01, -6.86678382e-02,\n",
      "   9.07105071e-01,  1.12652499e-02,  1.17790192e+00, -4.85498669e-01,\n",
      "   3.17907238e-01, -2.12338020e-01,  1.83781371e+00,  6.60101778e-01,\n",
      "   5.16737421e-01},\n",
      " {-5.88746580e-01,  1.52919622e-01, -2.30200551e+00,  1.47404982e+00,\n",
      "  -1.36139141e+00, -1.29132467e-01, -1.22108279e+00,  1.25370345e-01,\n",
      "   5.57391854e-01, -1.39055000e+00,  7.01194668e-01,  5.04519227e-01,\n",
      "   8.08216312e-01},\n",
      " {-3.37493965e-01,  6.47274033e-01, -4.30552613e-01,  1.38868151e+00,\n",
      "  -6.09100610e-01,  9.41834762e-01, -1.02712419e+00, -1.35212286e+00,\n",
      "   2.28787723e+00, -1.63988016e+00,  1.63917806e+00, -8.39881262e-01,\n",
      "   4.79371593e-01},\n",
      " {-4.17872940e-01, -1.05124492e+00, -2.72783080e-01,  5.04295545e-01,\n",
      "   5.62095061e-01,  8.16672402e-01,  5.82401399e-01,  6.47497839e-02,\n",
      "   1.55132057e+00,  2.95419847e-01,  1.42815149e+00, -1.73930895e+00,\n",
      "   1.51203013e+00},\n",
      " {-1.48040967e+00, -2.80636171e-01, -3.55502272e-01,  2.48061442e-01,\n",
      "  -8.25787958e-01, -1.88446790e-01, -2.35936700e+00, -1.77415528e+00,\n",
      "  -8.68685588e-01,  1.95178125e-01, -9.50544201e-01,  5.44708072e-01,\n",
      "  -6.15291183e-01},\n",
      " { 1.43711896e+00, -1.80300607e-01,  2.84355155e-01,  8.17498366e-01,\n",
      "  -9.25287940e-01, -2.73110301e-01, -1.39460072e-01,  7.98457557e-01,\n",
      "   8.18376218e-01, -4.39260422e-01,  6.60201057e-02, -1.71741396e+00,\n",
      "   2.83712064e-01},\n",
      " { 9.57011255e-01, -7.96718653e-01,  7.23428771e-01, -1.58568533e+00,\n",
      "  -1.62463931e-01,  9.18284943e-02,  1.08206384e+00,  1.60729050e+00,\n",
      "   1.00589513e+00, -1.45117331e+00,  1.51619451e-01,  3.14933647e-02,\n",
      "   1.49509208e+00},\n",
      " { 2.43307468e-01,  1.20574891e+00,  5.74106623e-01, -8.86872611e-02,\n",
      "  -2.36657735e+00, -8.16207909e-01,  7.59746692e-01,  5.66469735e-01,\n",
      "  -5.50368658e-01,  2.51112673e+00,  5.64889917e-01,  7.62564311e-01,\n",
      "   2.27423918e+00},\n",
      " {-5.63352067e-01, -3.43268628e-01, -9.63627428e-01, -2.55240951e+00,\n",
      "   5.54729325e-01, -1.03286967e+00,  3.43248474e-01,  1.34007287e-01,\n",
      "   6.77242890e-01, -3.87416867e-01,  6.13407116e-01, -2.60810363e-01,\n",
      "  -1.14968551e+00},\n",
      " {-1.59374191e+00,  1.17940292e+00,  1.10969457e-01,  1.56407549e+00,\n",
      "  -9.41110800e-01,  1.04694255e+00,  9.67413886e-01, -2.69837267e-01,\n",
      "   2.20145541e+00,  1.68089799e+00, -1.14677791e+00, -7.13743727e-01,\n",
      "   1.09716135e+00},\n",
      " { 3.33401916e-01, -2.12221588e+00,  1.64916799e-01, -1.31452749e+00,\n",
      "  -1.15877829e+00, -7.58087997e-02, -7.38055456e-01,  2.00279056e+00,\n",
      "  -4.06355496e-01,  1.03952545e+00, -1.43149640e+00, -1.90491689e-01,\n",
      "   1.36550488e+00},\n",
      " { 8.61501789e-01,  2.16721023e+00,  7.41269793e-01, -2.48337947e-01,\n",
      "   1.61239671e+00,  9.23330443e-01,  1.88135339e+00,  9.99824633e-01,\n",
      "   4.69223466e-01, -3.40836202e-01, -4.95393539e-01, -2.88483806e-01,\n",
      "  -1.51458958e+00},\n",
      " {-2.30258895e-01,  1.45200938e+00,  9.01968601e-01,  6.38721806e-01,\n",
      "   9.17563659e-01,  4.87747426e-01,  7.35744849e-01, -1.03720810e+00,\n",
      "  -1.60158074e+00, -1.13404223e+00, -1.39450443e+00, -1.62686435e+00,\n",
      "  -1.38840152e+00},\n",
      " { 1.35566195e+00, -1.11820291e+00,  1.02487010e-01,  1.86261632e-01,\n",
      "   2.11700864e-01,  2.68894773e+00,  3.32808081e-01, -5.64247915e-02,\n",
      "   1.10793895e+00, -2.69273637e-01,  1.94012878e-01,  2.95758499e+00,\n",
      "   1.00260352e-01},\n",
      " {-6.35085833e-01, -2.38634948e+00, -5.95694734e-01,  2.81333287e-01,\n",
      "  -1.56914772e+00,  7.96237447e-01,  5.96330185e-01,  6.13941615e-01,\n",
      "   1.05185600e+00, -3.88877969e-01, -7.93398416e-01, -9.45814560e-01,\n",
      "   2.11040558e-01},\n",
      " { 3.58903587e-01, -2.40209669e+00, -9.86104438e-01, -1.26528969e-01,\n",
      "   8.60916244e-01, -5.17203297e-01, -1.22324266e-01,  2.98121118e-01,\n",
      "  -1.61855190e+00, -1.22980744e+00, -2.11529537e+00,  9.25665481e-01,\n",
      "   4.61293083e-04},\n",
      " { 2.33533576e-01, -2.65767026e-01,  5.07161970e-01, -7.94885677e-02,\n",
      "   2.18373196e+00, -2.97776052e-02,  4.09265180e-01,  1.83032583e+00,\n",
      "   8.74373374e-01, -4.90622937e-01, -4.07359790e-01,  2.01161378e+00,\n",
      "   7.07335889e-01},\n",
      " { 5.16790853e-01,  1.32208721e+00,  9.69403393e-01, -3.52298331e-01,\n",
      "  -1.28155286e+00, -2.70321360e-01, -7.89867844e-01,  7.00363754e-01,\n",
      "  -7.42669964e-01,  8.21782648e-02,  2.37869638e-02,  1.15674802e+00,\n",
      "   7.09133407e-01},\n",
      " { 5.12867594e-01,  1.27238582e+00, -2.07856001e+00,  1.48291182e+00,\n",
      "   5.36947627e-01, -2.07306012e-01, -1.31044345e+00, -1.91660542e-01,\n",
      "   1.11626189e+00, -1.38232581e+00,  1.02666785e+00, -3.58417683e-01,\n",
      "   6.43293793e-01},\n",
      " { 2.88999034e-01, -1.05755161e+00,  6.87331759e-01,  2.75077646e-01,\n",
      "  -5.72369043e-01,  9.94390188e-02, -1.95290536e+00, -1.32667505e+00,\n",
      "  -1.10853504e+00, -1.87993828e+00, -1.42053876e-01, -5.61008429e-01,\n",
      "   7.59130324e-01},\n",
      " {-7.55824141e-02, -2.25551456e-01, -2.30326530e-01, -3.54804712e-01,\n",
      "  -1.78236689e+00, -5.17316168e-01,  8.76275333e-01, -1.41507994e+00,\n",
      "   1.30309905e+00, -1.35627242e-01, -3.75457726e-01, -4.42193919e-01,\n",
      "  -7.07370551e-01},\n",
      " {-2.54924392e-01,  1.72860040e+00, -1.66899822e+00, -9.85180754e-02,\n",
      "   4.41155590e-01, -6.07557036e-01, -7.19196553e-01,  3.43321835e-01,\n",
      "  -9.66224967e-01,  4.69194559e-01,  3.04961184e-01,  8.78121615e-01,\n",
      "  -1.70501838e+00},\n",
      " { 3.80372148e-01,  1.09352897e+00, -1.07009463e+00,  8.29022895e-01,\n",
      "   7.30711702e-01,  8.44633018e-01, -2.23050031e-01,  7.12188212e-01,\n",
      "  -1.71846053e-01, -1.97032014e-01, -1.05023349e+00, -1.07311835e+00,\n",
      "   1.35707458e-01},\n",
      " { 3.18925447e-01,  4.37096479e-01, -4.04211762e-01,  6.07417859e-01,\n",
      "   3.31934330e-01,  9.49063625e-01, -1.24373537e+00,  1.33421468e+00,\n",
      "   1.13988556e+00,  8.81209953e-01, -2.09719800e+00,  6.04762789e-01,\n",
      "   1.42530458e-01},\n",
      " { 8.02276682e-01,  1.49607786e+00, -1.52286367e+00, -3.94842076e-02,\n",
      "   3.94078725e-01, -1.52696094e-02, -3.81766997e-01, -3.16297148e-01,\n",
      "  -8.70540685e-01, -9.62850899e-01,  1.40029885e-01, -8.34340316e-01,\n",
      "   1.55220384e-01},\n",
      " {-2.68669357e-01, -8.20029745e-01,  4.11768069e-01, -1.00894029e+00,\n",
      "   1.16272108e-01, -6.23906729e-01,  4.21136893e-01,  1.56998974e-01,\n",
      "  -1.20583493e+00,  6.38959798e-01,  1.45892661e+00, -9.35148456e-02,\n",
      "   5.70759344e-02},\n",
      " {-2.97400348e-01,  2.45030179e-01,  1.36692589e-02,  9.10320789e-01,\n",
      "   2.71965139e-01, -9.88866277e-02,  2.33066940e-01,  6.26843320e-01,\n",
      "   1.51179678e+00, -3.56724479e-01,  9.99724183e-01,  9.50629573e-01,\n",
      "   1.30609907e+00},\n",
      " {-1.26451293e-01, -1.31175295e+00, -4.48417175e-01, -4.34504261e-01,\n",
      "  -1.18819375e-01,  6.57413054e-01,  2.89216697e-01,  3.03591029e-01,\n",
      "   1.02099865e+00, -1.08592948e+00, -1.03258370e+00, -1.89108358e-01,\n",
      "   9.89536413e-01},\n",
      " {-1.15993787e+00,  2.62871427e+00,  1.82228620e-01, -1.44305799e+00,\n",
      "   5.48279894e-01,  1.63122523e+00, -7.34197119e-01,  1.75037367e+00,\n",
      "   8.35875279e-02, -4.69928534e-01,  1.07029557e-01,  2.13059465e-01,\n",
      "   1.55653543e+00},\n",
      " { 1.31606401e+00, -3.00142063e-02,  1.35365495e+00,  1.37142420e-01,\n",
      "   1.07868164e+00, -9.95409880e-01,  5.39365425e-01,  1.73416017e-01,\n",
      "  -7.54570380e-01, -1.93559589e+00, -1.85514591e+00, -1.17956134e-03,\n",
      "   2.75732690e-01},\n",
      " { 2.17413926e+00,  2.75724267e-01,  3.34689374e-02,  6.36561480e-01,\n",
      "   1.33942117e+00, -1.33687494e-01, -2.96619855e-01,  2.74094894e-01,\n",
      "  -8.37440577e-02,  9.04853970e-02, -1.00310830e+00,  5.91709372e-01,\n",
      "   1.60596479e+00},\n",
      " {-9.63041647e-01, -8.82900878e-01, -1.35029953e+00, -6.10882139e-01,\n",
      "  -6.63461002e-01, -8.50239613e-01,  4.25203876e-01,  5.63935374e-02,\n",
      "   5.56770337e-01, -4.06944698e-01,  3.43259472e-01,  5.41482349e-02,\n",
      "   1.05718287e+00},\n",
      " { 8.01554557e-01, -1.55103236e+00,  1.11934007e+00,  1.96564359e-01,\n",
      "   1.08257172e+00,  1.20347442e+00, -2.99720081e-01, -3.41004405e-01,\n",
      "  -1.87354404e+00,  3.44373388e-01, -7.03276172e-02,  2.41728808e-01,\n",
      "   9.32951000e-02},\n",
      " {-5.91130298e-01, -3.40849874e-01, -5.52566653e-01,  7.69544608e-01,\n",
      "   6.98992704e-01, -2.87358722e+00, -1.17729101e-01,  1.58779634e-01,\n",
      "   9.62843800e-01,  1.20089965e+00,  5.34254657e-01,  4.44944475e-01,\n",
      "   4.23023922e-02},\n",
      " {-3.61431805e-01, -1.12335581e+00, -4.08170567e-01, -2.91095493e-01,\n",
      "  -8.72734412e-01, -1.75312989e-01, -7.22265147e-01, -3.22054278e-01,\n",
      "  -1.05378307e+00, -1.03971456e+00, -2.17678898e+00, -4.43491394e-01,\n",
      "   4.78397289e-01},\n",
      " {-1.68602615e+00,  1.02750928e+00, -7.94170301e-01, -1.59072374e+00,\n",
      "   6.17182677e-01, -8.43473879e-01, -7.71924242e-01,  1.65663398e+00,\n",
      "  -2.66353010e+00, -1.87616781e+00, -4.24860762e-01, -6.01389916e-01,\n",
      "  -8.96853053e-01},\n",
      " { 1.61685948e-02,  1.55713486e+00,  3.56985753e-01,  1.59326000e-01,\n",
      "  -7.97614163e-01, -3.61487296e-01,  1.65419565e+00, -3.29590041e-01,\n",
      "   1.12149833e+00, -2.05186235e-01, -2.76383542e-01, -4.64779958e-01,\n",
      "  -1.11234717e+00}};\n"
     ]
    }
   ],
   "source": [
    "print(np_2_c_array(test_input, \"test_array\"))"
   ]
  },
  {
   "cell_type": "code",
   "execution_count": 69,
   "metadata": {},
   "outputs": [],
   "source": [
    "pool2_result = model.layers[0](test_input[np.newaxis,:,:,np.newaxis])\n",
    "pool2_result = model.layers[1](pool2_result)\n",
    "pool2_result = model.layers[2](pool2_result)\n",
    "pool2_result = model.layers[3](pool2_result)\n",
    "pool2_result = model.layers[4](pool2_result) #flattern layer\n",
    "pool2_result = model.layers[5](pool2_result)\n",
    "pool2_result = model.layers[6](pool2_result)\n",
    "\n",
    "\n"
   ]
  },
  {
   "cell_type": "code",
   "execution_count": 70,
   "metadata": {},
   "outputs": [],
   "source": [
    "pool2_result = pool2_result.numpy()"
   ]
  },
  {
   "cell_type": "code",
   "execution_count": 71,
   "metadata": {},
   "outputs": [
    {
     "data": {
      "text/plain": [
       "(1, 10)"
      ]
     },
     "execution_count": 71,
     "metadata": {},
     "output_type": "execute_result"
    }
   ],
   "source": [
    "pool2_result.shape"
   ]
  },
  {
   "cell_type": "code",
   "execution_count": 72,
   "metadata": {},
   "outputs": [
    {
     "name": "stdout",
     "output_type": "stream",
     "text": [
      "[[0.16369876 0.10848407 0.10020383 0.07249786 0.07351791 0.03067207\n",
      "  0.17905253 0.0489108  0.12894718 0.09401508]]\n"
     ]
    }
   ],
   "source": [
    "print(pool2_result)"
   ]
  },
  {
   "cell_type": "code",
   "execution_count": 55,
   "metadata": {},
   "outputs": [],
   "source": [
    "mcu_pool2 = np.array([0.000000,0.000000,0.000000,0.251277,0.000000,0.000000,0.000000,0.000000,0.000000,0.000000,0.000000,0.036740,0.000000,0.210705,1.007520,0.419401,0.000000,0.000000,1.165480,0.000000,0.000000,0.000000,0.248873,0.000000,0.000000,0.000000,0.000000,0.000000,0.000000,0.000000,0.870313,0.000000,0.000000,0.000000,0.000000,0.000000,0.000000,0.476581,0.000000,0.180581,0.524391,0.000000,0.000000,0.000000,0.648462,0.000000,0.000000,0.000000,0.000000,0.294727,0.000000,0.000000,0.000000,0.256961,0.000000,0.386589,0.000000,0.475125,0.612273,0.000000,0.000000,0.000000,0.000000,1.392081,])"
   ]
  },
  {
   "cell_type": "code",
   "execution_count": 66,
   "metadata": {},
   "outputs": [
    {
     "data": {
      "text/plain": [
       "4.057079315243628e-06"
      ]
     },
     "execution_count": 66,
     "metadata": {},
     "output_type": "execute_result"
    }
   ],
   "source": [
    "np.sum(np.abs(pool2_result[0,:] - mcu_pool2))"
   ]
  },
  {
   "cell_type": "code",
   "execution_count": 67,
   "metadata": {},
   "outputs": [
    {
     "data": {
      "text/plain": [
       "[<matplotlib.lines.Line2D at 0x1febf895d60>]"
      ]
     },
     "execution_count": 67,
     "metadata": {},
     "output_type": "execute_result"
    },
    {
     "data": {
      "image/png": "[encoded data removed]",
      "text/plain": [
       "<Figure size 432x288 with 1 Axes>"
      ]
     },
     "metadata": {
      "needs_background": "light"
     },
     "output_type": "display_data"
    }
   ],
   "source": [
    "plt.plot(pool2_result[0,:], '-ro')"
   ]
  },
  {
   "cell_type": "code",
   "execution_count": 68,
   "metadata": {},
   "outputs": [
    {
     "data": {
      "text/plain": [
       "[<matplotlib.lines.Line2D at 0x1febf881f70>]"
      ]
     },
     "execution_count": 68,
     "metadata": {},
     "output_type": "execute_result"
    },
    {
     "data": {
      "image/png": "[encoded data removed]",
      "text/plain": [
       "<Figure size 432x288 with 1 Axes>"
      ]
     },
     "metadata": {
      "needs_background": "light"
     },
     "output_type": "display_data"
    }
   ],
   "source": [
    "plt.plot(mcu_pool2[:], '-yo')"
   ]
  },
  {
   "cell_type": "code",
   "execution_count": 73,
   "metadata": {},
   "outputs": [
    {
     "data": {
      "text/plain": [
       "6"
      ]
     },
     "execution_count": 73,
     "metadata": {},
     "output_type": "execute_result"
    }
   ],
   "source": [
    "np.argmax(pool2_result[0,:])"
   ]
  },
  {
   "cell_type": "code",
   "execution_count": null,
   "metadata": {},
   "outputs": [],
   "source": []
  }
 ],
 "metadata": {
  "kernelspec": {
   "display_name": "Python 3",
   "language": "python",
   "name": "python3"
  },
  "language_info": {
   "codemirror_mode": {
    "name": "ipython",
    "version": 3
   },
   "file_extension": ".py",
   "mimetype": "text/x-python",
   "name": "python",
   "nbconvert_exporter": "python",
   "pygments_lexer": "ipython3",
   "version": "3.8.6"
  }
 },
 "nbformat": 4,
 "nbformat_minor": 5
}
